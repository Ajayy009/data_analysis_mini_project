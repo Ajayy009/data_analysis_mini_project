{
 "cells": [
  {
   "cell_type": "code",
   "execution_count": 1,
   "id": "fce20399",
   "metadata": {},
   "outputs": [],
   "source": [
    "import pandas as pd\n"
   ]
  },
  {
   "cell_type": "code",
   "execution_count": null,
   "id": "0a55ebb0",
   "metadata": {},
   "outputs": [
    {
     "name": "stdout",
     "output_type": "stream",
     "text": [
      "   OrderID Product     Category  Quantity  Price Region\n",
      "0        1   Shoes     Footwear         2   2000  North\n",
      "1        2   Shirt      Apparel         1    800  South\n",
      "2        3   Shoes     Footwear         3   2000   East\n",
      "3        4   Watch  Accessories         1   5000   West\n",
      "4        5   Shirt      Apparel         2    800  North\n",
      "5        6   Shoes     Footwear         1   2000   East\n",
      "\n",
      "Total Sales per Order:\n",
      "   OrderID  Total\n",
      "0        1   4000\n",
      "1        2    800\n",
      "2        3   6000\n",
      "3        4   5000\n",
      "4        5   1600\n",
      "5        6   2000\n",
      "\n",
      "Sales by Category:\n",
      "Category\n",
      "Accessories     5000\n",
      "Apparel         2400\n",
      "Footwear       12000\n",
      "Name: Total, dtype: int64\n",
      "\n",
      "Sales by Region:\n",
      "Region\n",
      "East     8000\n",
      "North    5600\n",
      "South     800\n",
      "West     5000\n",
      "Name: Total, dtype: int64\n",
      "\n",
      "Most Sold Product:\n",
      "Product\n",
      "Shoes    6\n",
      "Name: Quantity, dtype: int64\n"
     ]
    }
   ],
   "source": [
    "# sample data\n",
    "data = {\n",
    "    \"OrderID\": [1, 2, 3, 4, 5, 6],\n",
    "    \"Product\": [\"Shoes\", \"Shirt\", \"Shoes\", \"Watch\", \"Shirt\", \"Shoes\"],\n",
    "    \"Category\": [\"Footwear\", \"Apparel\", \"Footwear\", \"Accessories\", \"Apparel\", \"Footwear\"],\n",
    "    \"Quantity\": [2, 1, 3, 1, 2, 1],\n",
    "    \"Price\": [2000, 800, 2000, 5000, 800, 2000],\n",
    "    \"Region\": [\"North\", \"South\", \"East\", \"West\", \"North\", \"East\"]\n",
    "}\n",
    "\n",
    "df = pd.DataFrame(data)\n",
    "print(df)\n",
    "print(\"\\nTotal Sales per Order:\")\n",
    "df[\"Total\"] = df[\"Quantity\"] * df[\"Price\"]\n",
    "print(df[[\"OrderID\", \"Total\"]])\n",
    "\n",
    "\n",
    "\n",
    "print(\"\\nSales by Category:\")\n",
    "print(df.groupby(\"Category\")[\"Total\"].sum())\n",
    "\n",
    "print(\"\\nSales by Region:\")\n",
    "print(df.groupby(\"Region\")[\"Total\"].sum())\n",
    "\n",
    "print(\"\\nMost Sold Product:\")\n",
    "print(df.groupby(\"Product\")[\"Quantity\"].sum().sort_values(ascending=False).head(1))\n",
    "\n",
    "\n",
    "\n",
    "\n",
    "\n",
    "\n",
    "\n",
    "\n"
   ]
  }
 ],
 "metadata": {
  "kernelspec": {
   "display_name": "Python 3",
   "language": "python",
   "name": "python3"
  },
  "language_info": {
   "codemirror_mode": {
    "name": "ipython",
    "version": 3
   },
   "file_extension": ".py",
   "mimetype": "text/x-python",
   "name": "python",
   "nbconvert_exporter": "python",
   "pygments_lexer": "ipython3",
   "version": "3.11.9"
  }
 },
 "nbformat": 4,
 "nbformat_minor": 5
}
