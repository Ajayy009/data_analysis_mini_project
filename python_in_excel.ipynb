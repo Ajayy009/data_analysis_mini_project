{
 "cells": [
  {
   "cell_type": "markdown",
   "id": "c3d5543e",
   "metadata": {},
   "source": [
    "##csv handling \n"
   ]
  },
  {
   "cell_type": "code",
   "execution_count": 93,
   "id": "9a1add0a",
   "metadata": {},
   "outputs": [],
   "source": [
    "import pandas as pd\n",
    "df=pd.read_csv('test.csv')"
   ]
  },
  {
   "cell_type": "markdown",
   "id": "647748c1",
   "metadata": {},
   "source": [
    "#exploredata"
   ]
  },
  {
   "cell_type": "code",
   "execution_count": 94,
   "id": "73dcf2bc",
   "metadata": {},
   "outputs": [
    {
     "name": "stdout",
     "output_type": "stream",
     "text": [
      "<class 'pandas.core.frame.DataFrame'>\n",
      "RangeIndex: 6 entries, 0 to 5\n",
      "Data columns (total 2 columns):\n",
      " #   Column      Non-Null Count  Dtype \n",
      "---  ------      --------------  ----- \n",
      " 0   04/09/2025  6 non-null      object\n",
      " 1   12          6 non-null      int64 \n",
      "dtypes: int64(1), object(1)\n",
      "memory usage: 228.0+ bytes\n"
     ]
    },
    {
     "data": {
      "text/html": [
       "<div>\n",
       "<style scoped>\n",
       "    .dataframe tbody tr th:only-of-type {\n",
       "        vertical-align: middle;\n",
       "    }\n",
       "\n",
       "    .dataframe tbody tr th {\n",
       "        vertical-align: top;\n",
       "    }\n",
       "\n",
       "    .dataframe thead th {\n",
       "        text-align: right;\n",
       "    }\n",
       "</style>\n",
       "<table border=\"1\" class=\"dataframe\">\n",
       "  <thead>\n",
       "    <tr style=\"text-align: right;\">\n",
       "      <th></th>\n",
       "      <th>12</th>\n",
       "    </tr>\n",
       "  </thead>\n",
       "  <tbody>\n",
       "    <tr>\n",
       "      <th>count</th>\n",
       "      <td>6.000000</td>\n",
       "    </tr>\n",
       "    <tr>\n",
       "      <th>mean</th>\n",
       "      <td>16.500000</td>\n",
       "    </tr>\n",
       "    <tr>\n",
       "      <th>std</th>\n",
       "      <td>5.319774</td>\n",
       "    </tr>\n",
       "    <tr>\n",
       "      <th>min</th>\n",
       "      <td>10.000000</td>\n",
       "    </tr>\n",
       "    <tr>\n",
       "      <th>25%</th>\n",
       "      <td>12.000000</td>\n",
       "    </tr>\n",
       "    <tr>\n",
       "      <th>50%</th>\n",
       "      <td>18.500000</td>\n",
       "    </tr>\n",
       "    <tr>\n",
       "      <th>75%</th>\n",
       "      <td>19.000000</td>\n",
       "    </tr>\n",
       "    <tr>\n",
       "      <th>max</th>\n",
       "      <td>23.000000</td>\n",
       "    </tr>\n",
       "  </tbody>\n",
       "</table>\n",
       "</div>"
      ],
      "text/plain": [
       "              12\n",
       "count   6.000000\n",
       "mean   16.500000\n",
       "std     5.319774\n",
       "min    10.000000\n",
       "25%    12.000000\n",
       "50%    18.500000\n",
       "75%    19.000000\n",
       "max    23.000000"
      ]
     },
     "execution_count": 94,
     "metadata": {},
     "output_type": "execute_result"
    }
   ],
   "source": [
    "df.head() #first 5 rows\n",
    "df.info() #column info\n",
    "df.describe() #stats\n",
    "\n"
   ]
  },
  {
   "cell_type": "code",
   "execution_count": 100,
   "id": "63c88f4e",
   "metadata": {},
   "outputs": [
    {
     "name": "stdout",
     "output_type": "stream",
     "text": [
      "         Date  Sales\n",
      "0  04/09/2025     12\n",
      "1  04/09/2025     18\n",
      "2  04/09/2025     10\n",
      "3  04/09/2025     19\n",
      "4  04/09/2025     19\n"
     ]
    }
   ],
   "source": [
    "import pandas as pd\n",
    "df = pd.read_csv(\"cleaned.csv\", header=None, names=[\"Date\", \"Sales\"])\n",
    "print(df.head())\n"
   ]
  },
  {
   "cell_type": "markdown",
   "id": "a3fcdd4a",
   "metadata": {},
   "source": [
    "#select rows and columns"
   ]
  },
  {
   "cell_type": "code",
   "execution_count": 99,
   "id": "767307de",
   "metadata": {},
   "outputs": [
    {
     "data": {
      "text/plain": [
       "0    04/09/2025\n",
       "1    04/09/2025\n",
       "2    04/09/2025\n",
       "3    04/09/2025\n",
       "4    04/09/2025\n",
       "5    04/09/2025\n",
       "6    04/09/2025\n",
       "Name: Date, dtype: object"
      ]
     },
     "execution_count": 99,
     "metadata": {},
     "output_type": "execute_result"
    }
   ],
   "source": [
    "df[\"Sales\"]       # select first column\n",
    "df[\"Date\"]  # select second column"
   ]
  },
  {
   "cell_type": "markdown",
   "id": "dc2a12c7",
   "metadata": {},
   "source": [
    "filter data"
   ]
  },
  {
   "cell_type": "markdown",
   "id": "cd22d6e4",
   "metadata": {},
   "source": [
    "##save back to csv"
   ]
  },
  {
   "cell_type": "code",
   "execution_count": 54,
   "id": "908d2662",
   "metadata": {},
   "outputs": [],
   "source": [
    "df.to_csv(\"cleaned.csv\", index=False)"
   ]
  }
 ],
 "metadata": {
  "kernelspec": {
   "display_name": "Python 3",
   "language": "python",
   "name": "python3"
  },
  "language_info": {
   "codemirror_mode": {
    "name": "ipython",
    "version": 3
   },
   "file_extension": ".py",
   "mimetype": "text/x-python",
   "name": "python",
   "nbconvert_exporter": "python",
   "pygments_lexer": "ipython3",
   "version": "3.11.9"
  }
 },
 "nbformat": 4,
 "nbformat_minor": 5
}
