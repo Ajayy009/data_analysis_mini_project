{
 "cells": [
  {
   "cell_type": "code",
   "execution_count": 2,
   "id": "12a83945",
   "metadata": {},
   "outputs": [
    {
     "ename": "ModuleNotFoundError",
     "evalue": "No module named 'matplotlib'",
     "output_type": "error",
     "traceback": [
      "\u001b[31m---------------------------------------------------------------------------\u001b[39m",
      "\u001b[31mModuleNotFoundError\u001b[39m                       Traceback (most recent call last)",
      "\u001b[36mCell\u001b[39m\u001b[36m \u001b[39m\u001b[32mIn[2]\u001b[39m\u001b[32m, line 1\u001b[39m\n\u001b[32m----> \u001b[39m\u001b[32m1\u001b[39m \u001b[38;5;28;01mimport\u001b[39;00m\u001b[38;5;250m \u001b[39m\u001b[34;01mmatplotlib\u001b[39;00m\u001b[34;01m.\u001b[39;00m\u001b[34;01mpylot\u001b[39;00m\u001b[38;5;250m \u001b[39m\u001b[38;5;28;01mas\u001b[39;00m\u001b[38;5;250m \u001b[39m\u001b[34;01mplt\u001b[39;00m\n",
      "\u001b[31mModuleNotFoundError\u001b[39m: No module named 'matplotlib'"
     ]
    }
   ],
   "source": [
    "import matplotlib.pylot as plt"
   ]
  },
  {
   "cell_type": "code",
   "execution_count": 3,
   "id": "d6d76107",
   "metadata": {},
   "outputs": [
    {
     "name": "stderr",
     "output_type": "stream",
     "text": [
      "ERROR: Could not find a version that satisfies the requirement some_lib (from versions: none)\n",
      "ERROR: No matching distribution found for some_lib\n",
      "\n",
      "[notice] A new release of pip is available: 24.0 -> 25.2\n",
      "[notice] To update, run: C:\\Users\\anjal\\AppData\\Local\\Microsoft\\WindowsApps\\PythonSoftwareFoundation.Python.3.11_qbz5n2kfra8p0\\python.exe -m pip install --upgrade pip\n"
     ]
    }
   ],
   "source": [
    "!pip install some_lib"
   ]
  },
  {
   "cell_type": "code",
   "execution_count": 4,
   "id": "1b7f1c28",
   "metadata": {},
   "outputs": [
    {
     "name": "stdout",
     "output_type": "stream",
     "text": [
      "Collecting matplotlib\n",
      "  Downloading matplotlib-3.10.5-cp311-cp311-win_amd64.whl.metadata (11 kB)\n",
      "Collecting contourpy>=1.0.1 (from matplotlib)\n",
      "  Downloading contourpy-1.3.3-cp311-cp311-win_amd64.whl.metadata (5.5 kB)\n",
      "Collecting cycler>=0.10 (from matplotlib)\n",
      "  Downloading cycler-0.12.1-py3-none-any.whl.metadata (3.8 kB)\n",
      "Collecting fonttools>=4.22.0 (from matplotlib)\n",
      "  Downloading fonttools-4.59.2-cp311-cp311-win_amd64.whl.metadata (111 kB)\n",
      "     ---------------------------------------- 0.0/111.9 kB ? eta -:--:--\n",
      "     ---------- ---------------------------- 30.7/111.9 kB 1.3 MB/s eta 0:00:01\n",
      "     -------------------------------------- 111.9/111.9 kB 1.6 MB/s eta 0:00:00\n",
      "Collecting kiwisolver>=1.3.1 (from matplotlib)\n",
      "  Downloading kiwisolver-1.4.9-cp311-cp311-win_amd64.whl.metadata (6.4 kB)\n",
      "Collecting numpy>=1.23 (from matplotlib)\n",
      "  Using cached numpy-2.3.2-cp311-cp311-win_amd64.whl.metadata (60 kB)\n",
      "Requirement already satisfied: packaging>=20.0 in c:\\users\\anjal\\appdata\\local\\packages\\pythonsoftwarefoundation.python.3.11_qbz5n2kfra8p0\\localcache\\local-packages\\python311\\site-packages (from matplotlib) (25.0)\n",
      "Collecting pillow>=8 (from matplotlib)\n",
      "  Downloading pillow-11.3.0-cp311-cp311-win_amd64.whl.metadata (9.2 kB)\n",
      "Collecting pyparsing>=2.3.1 (from matplotlib)\n",
      "  Downloading pyparsing-3.2.3-py3-none-any.whl.metadata (5.0 kB)\n",
      "Requirement already satisfied: python-dateutil>=2.7 in c:\\users\\anjal\\appdata\\local\\packages\\pythonsoftwarefoundation.python.3.11_qbz5n2kfra8p0\\localcache\\local-packages\\python311\\site-packages (from matplotlib) (2.9.0.post0)\n",
      "Requirement already satisfied: six>=1.5 in c:\\users\\anjal\\appdata\\local\\packages\\pythonsoftwarefoundation.python.3.11_qbz5n2kfra8p0\\localcache\\local-packages\\python311\\site-packages (from python-dateutil>=2.7->matplotlib) (1.17.0)\n",
      "Downloading matplotlib-3.10.5-cp311-cp311-win_amd64.whl (8.1 MB)\n",
      "   ---------------------------------------- 0.0/8.1 MB ? eta -:--:--\n",
      "   -- ------------------------------------- 0.5/8.1 MB 14.4 MB/s eta 0:00:01\n",
      "   --- ------------------------------------ 0.7/8.1 MB 9.2 MB/s eta 0:00:01\n",
      "   ----- ---------------------------------- 1.1/8.1 MB 8.7 MB/s eta 0:00:01\n",
      "   ------ --------------------------------- 1.4/8.1 MB 8.9 MB/s eta 0:00:01\n",
      "   -------- ------------------------------- 1.7/8.1 MB 8.3 MB/s eta 0:00:01\n",
      "   ---------- ----------------------------- 2.0/8.1 MB 8.2 MB/s eta 0:00:01\n",
      "   ----------- ---------------------------- 2.3/8.1 MB 7.9 MB/s eta 0:00:01\n",
      "   ------------ --------------------------- 2.6/8.1 MB 7.9 MB/s eta 0:00:01\n",
      "   -------------- ------------------------- 2.9/8.1 MB 8.0 MB/s eta 0:00:01\n",
      "   ---------------- ----------------------- 3.3/8.1 MB 7.7 MB/s eta 0:00:01\n",
      "   ----------------- ---------------------- 3.6/8.1 MB 7.7 MB/s eta 0:00:01\n",
      "   ------------------- -------------------- 4.0/8.1 MB 7.7 MB/s eta 0:00:01\n",
      "   --------------------- ------------------ 4.4/8.1 MB 7.5 MB/s eta 0:00:01\n",
      "   ---------------------- ----------------- 4.6/8.1 MB 7.6 MB/s eta 0:00:01\n",
      "   ------------------------ --------------- 5.0/8.1 MB 7.6 MB/s eta 0:00:01\n",
      "   -------------------------- ------------- 5.3/8.1 MB 7.6 MB/s eta 0:00:01\n",
      "   ---------------------------- ----------- 5.7/8.1 MB 7.4 MB/s eta 0:00:01\n",
      "   ------------------------------ --------- 6.1/8.1 MB 7.6 MB/s eta 0:00:01\n",
      "   ------------------------------- -------- 6.5/8.1 MB 7.6 MB/s eta 0:00:01\n",
      "   --------------------------------- ------ 6.8/8.1 MB 7.5 MB/s eta 0:00:01\n",
      "   ----------------------------------- ---- 7.1/8.1 MB 7.6 MB/s eta 0:00:01\n",
      "   ------------------------------------ --- 7.4/8.1 MB 7.5 MB/s eta 0:00:01\n",
      "   ------------------------------------- -- 7.7/8.1 MB 7.4 MB/s eta 0:00:01\n",
      "   ---------------------------------------  8.0/8.1 MB 7.5 MB/s eta 0:00:01\n",
      "   ---------------------------------------  8.1/8.1 MB 7.5 MB/s eta 0:00:01\n",
      "   ---------------------------------------- 8.1/8.1 MB 7.3 MB/s eta 0:00:00\n",
      "Downloading contourpy-1.3.3-cp311-cp311-win_amd64.whl (225 kB)\n",
      "   ---------------------------------------- 0.0/225.2 kB ? eta -:--:--\n",
      "   ---------------------------------------- 225.2/225.2 kB 6.7 MB/s eta 0:00:00\n",
      "Downloading cycler-0.12.1-py3-none-any.whl (8.3 kB)\n",
      "Downloading fonttools-4.59.2-cp311-cp311-win_amd64.whl (2.3 MB)\n",
      "   ---------------------------------------- 0.0/2.3 MB ? eta -:--:--\n",
      "   -------- ------------------------------- 0.5/2.3 MB 14.5 MB/s eta 0:00:01\n",
      "   -------------- ------------------------- 0.8/2.3 MB 10.4 MB/s eta 0:00:01\n",
      "   -------------------- ------------------- 1.2/2.3 MB 8.3 MB/s eta 0:00:01\n",
      "   --------------------------- ------------ 1.6/2.3 MB 8.4 MB/s eta 0:00:01\n",
      "   -------------------------------- ------- 1.8/2.3 MB 8.4 MB/s eta 0:00:01\n",
      "   -------------------------------------- - 2.2/2.3 MB 8.2 MB/s eta 0:00:01\n",
      "   ---------------------------------------- 2.3/2.3 MB 7.6 MB/s eta 0:00:00\n",
      "Downloading kiwisolver-1.4.9-cp311-cp311-win_amd64.whl (73 kB)\n",
      "   ---------------------------------------- 0.0/73.8 kB ? eta -:--:--\n",
      "   ---------------------------------------- 73.8/73.8 kB 4.0 MB/s eta 0:00:00\n",
      "Using cached numpy-2.3.2-cp311-cp311-win_amd64.whl (13.1 MB)\n",
      "Downloading pillow-11.3.0-cp311-cp311-win_amd64.whl (7.0 MB)\n",
      "   ---------------------------------------- 0.0/7.0 MB ? eta -:--:--\n",
      "   -- ------------------------------------- 0.4/7.0 MB 13.9 MB/s eta 0:00:01\n",
      "   ---- ----------------------------------- 0.8/7.0 MB 8.6 MB/s eta 0:00:01\n",
      "   ------ --------------------------------- 1.2/7.0 MB 8.3 MB/s eta 0:00:01\n",
      "   -------- ------------------------------- 1.5/7.0 MB 8.9 MB/s eta 0:00:01\n",
      "   ---------- ----------------------------- 1.9/7.0 MB 8.1 MB/s eta 0:00:01\n",
      "   ------------ --------------------------- 2.2/7.0 MB 8.3 MB/s eta 0:00:01\n",
      "   -------------- ------------------------- 2.5/7.0 MB 8.0 MB/s eta 0:00:01\n",
      "   --------------- ------------------------ 2.8/7.0 MB 7.7 MB/s eta 0:00:01\n",
      "   ----------------- ---------------------- 3.1/7.0 MB 8.0 MB/s eta 0:00:01\n",
      "   ------------------- -------------------- 3.4/7.0 MB 7.8 MB/s eta 0:00:01\n",
      "   --------------------- ------------------ 3.7/7.0 MB 7.9 MB/s eta 0:00:01\n",
      "   ----------------------- ---------------- 4.1/7.0 MB 7.7 MB/s eta 0:00:01\n",
      "   ------------------------- -------------- 4.5/7.0 MB 7.7 MB/s eta 0:00:01\n",
      "   --------------------------- ------------ 4.8/7.0 MB 7.7 MB/s eta 0:00:01\n",
      "   ----------------------------- ---------- 5.1/7.0 MB 7.6 MB/s eta 0:00:01\n",
      "   ------------------------------- -------- 5.4/7.0 MB 7.6 MB/s eta 0:00:01\n",
      "   --------------------------------- ------ 5.8/7.0 MB 7.6 MB/s eta 0:00:01\n",
      "   ----------------------------------- ---- 6.2/7.0 MB 7.6 MB/s eta 0:00:01\n",
      "   ------------------------------------ --- 6.5/7.0 MB 7.5 MB/s eta 0:00:01\n",
      "   -------------------------------------- - 6.8/7.0 MB 7.6 MB/s eta 0:00:01\n",
      "   ---------------------------------------  7.0/7.0 MB 7.6 MB/s eta 0:00:01\n",
      "   ---------------------------------------- 7.0/7.0 MB 7.3 MB/s eta 0:00:00\n",
      "Downloading pyparsing-3.2.3-py3-none-any.whl (111 kB)\n",
      "   ---------------------------------------- 0.0/111.1 kB ? eta -:--:--\n",
      "   ---------------------------------------- 111.1/111.1 kB 6.3 MB/s eta 0:00:00\n",
      "Installing collected packages: pyparsing, pillow, numpy, kiwisolver, fonttools, cycler, contourpy, matplotlib\n",
      "Successfully installed contourpy-1.3.3 cycler-0.12.1 fonttools-4.59.2 kiwisolver-1.4.9 matplotlib-3.10.5 numpy-2.3.2 pillow-11.3.0 pyparsing-3.2.3\n"
     ]
    },
    {
     "name": "stderr",
     "output_type": "stream",
     "text": [
      "\n",
      "[notice] A new release of pip is available: 24.0 -> 25.2\n",
      "[notice] To update, run: C:\\Users\\anjal\\AppData\\Local\\Microsoft\\WindowsApps\\PythonSoftwareFoundation.Python.3.11_qbz5n2kfra8p0\\python.exe -m pip install --upgrade pip\n"
     ]
    }
   ],
   "source": [
    "!pip install matplotlib"
   ]
  },
  {
   "cell_type": "code",
   "execution_count": 5,
   "id": "8f8766c2",
   "metadata": {},
   "outputs": [],
   "source": [
    "import matplotlib.pyplot as plt"
   ]
  },
  {
   "cell_type": "code",
   "execution_count": 6,
   "id": "36698fe0",
   "metadata": {},
   "outputs": [],
   "source": [
    "# Dummy data: Mahesh Babu Movies (Movie: [IMDb Rating, Budget (Cr), Collection (Cr)])\n",
    "movies = {\n",
    "    \"Okkadu\": [8.2, 12, 28],\n",
    "    \"Pokiri\": [8.0, 16, 66],\n",
    "    \"Athadu\": [8.1, 15, 30],\n",
    "    \"Dookudu\": [7.9, 35, 101],\n",
    "    \"Srimanthudu\": [7.7, 40, 144],\n",
    "    \"Bharat Ane Nenu\": [7.8, 65, 187],\n",
    "    \"Maharshi\": [7.2, 90, 180],\n",
    "    \"Sarkaru Vaari Paata\": [6.6, 110, 180],\n",
    "    \"Guntur Kaaram\": [6.0, 200, 175]\n",
    "}\n",
    "\n",
    "# Extracting values\n",
    "ratings = [movies[m][0] for m in movies]\n",
    "budgets = [movies[m][1] for m in movies]\n",
    "collections = [movies[m][2] for m in movies]\n"
   ]
  },
  {
   "cell_type": "code",
   "execution_count": null,
   "id": "45527e70",
   "metadata": {},
   "outputs": [],
   "source": [
    "plt.hist(ratings, bins=5, color='skyblue', edgecolor='black')\n",
    "plt.title(\"Mahesh babu movies -imdb rating distribution\")\n",
    "plt.xlabel(\"imdb rating\")\n",
    "plt.ylabel(\"number of movies\")\n",
    "plt.show()\n"
   ]
  },
  {
   "cell_type": "code",
   "execution_count": null,
   "id": "f81002a2",
   "metadata": {},
   "outputs": [],
   "source": [
    "plt.scatter(budgets, collections, color='green')\n",
    "\n",
    "#Annotate movie names\n",
    "for i,movie in enumerate(movies.keys()):\n",
    "  plt.text(budgets[i]+1, collections[i]+2, movie, fontsize=8)\n",
    "\n",
    "plt.title(\"mahesh babu movies- budget vs collection\")\n",
    "plt.xlabel(\"budget(cr)\")\n",
    "plt.ylabel(\"collection(cr)\")\n",
    "plt.show()"
   ]
  },
  {
   "cell_type": "code",
   "execution_count": null,
   "id": "738da031",
   "metadata": {},
   "outputs": [],
   "source": []
  }
 ],
 "metadata": {
  "kernelspec": {
   "display_name": "Python 3",
   "language": "python",
   "name": "python3"
  },
  "language_info": {
   "codemirror_mode": {
    "name": "ipython",
    "version": 3
   },
   "file_extension": ".py",
   "mimetype": "text/x-python",
   "name": "python",
   "nbconvert_exporter": "python",
   "pygments_lexer": "ipython3",
   "version": "3.11.9"
  }
 },
 "nbformat": 4,
 "nbformat_minor": 5
}
