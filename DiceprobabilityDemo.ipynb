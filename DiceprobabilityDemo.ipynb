{
 "cells": [
  {
   "cell_type": "code",
   "execution_count": 2,
   "id": "f3020829",
   "metadata": {},
   "outputs": [
    {
     "name": "stdout",
     "output_type": "stream",
     "text": [
      "Requirement already satisfied: numpy in c:\\users\\anjal\\appdata\\local\\packages\\pythonsoftwarefoundation.python.3.11_qbz5n2kfra8p0\\localcache\\local-packages\\python311\\site-packages (2.3.2)\n"
     ]
    },
    {
     "name": "stderr",
     "output_type": "stream",
     "text": [
      "\n",
      "[notice] A new release of pip is available: 24.0 -> 25.2\n",
      "[notice] To update, run: C:\\Users\\anjal\\AppData\\Local\\Microsoft\\WindowsApps\\PythonSoftwareFoundation.Python.3.11_qbz5n2kfra8p0\\python.exe -m pip install --upgrade pip\n"
     ]
    }
   ],
   "source": [
    "!pip install numpy"
   ]
  },
  {
   "cell_type": "code",
   "execution_count": 5,
   "id": "81c259a0",
   "metadata": {},
   "outputs": [],
   "source": [
    "import numpy as np\n",
    "import matplotlib.pyplot as plt"
   ]
  },
  {
   "cell_type": "code",
   "execution_count": 4,
   "id": "8dfe4840",
   "metadata": {},
   "outputs": [],
   "source": [
    "import numpy as np"
   ]
  },
  {
   "cell_type": "code",
   "execution_count": 5,
   "id": "dd2feb89",
   "metadata": {},
   "outputs": [
    {
     "name": "stdout",
     "output_type": "stream",
     "text": [
      "Requirement already satisfied: matplotlib in c:\\users\\anjal\\appdata\\local\\packages\\pythonsoftwarefoundation.python.3.11_qbz5n2kfra8p0\\localcache\\local-packages\\python311\\site-packages (3.10.5)\n",
      "Requirement already satisfied: contourpy>=1.0.1 in c:\\users\\anjal\\appdata\\local\\packages\\pythonsoftwarefoundation.python.3.11_qbz5n2kfra8p0\\localcache\\local-packages\\python311\\site-packages (from matplotlib) (1.3.3)\n",
      "Requirement already satisfied: cycler>=0.10 in c:\\users\\anjal\\appdata\\local\\packages\\pythonsoftwarefoundation.python.3.11_qbz5n2kfra8p0\\localcache\\local-packages\\python311\\site-packages (from matplotlib) (0.12.1)\n",
      "Requirement already satisfied: fonttools>=4.22.0 in c:\\users\\anjal\\appdata\\local\\packages\\pythonsoftwarefoundation.python.3.11_qbz5n2kfra8p0\\localcache\\local-packages\\python311\\site-packages (from matplotlib) (4.59.2)\n",
      "Requirement already satisfied: kiwisolver>=1.3.1 in c:\\users\\anjal\\appdata\\local\\packages\\pythonsoftwarefoundation.python.3.11_qbz5n2kfra8p0\\localcache\\local-packages\\python311\\site-packages (from matplotlib) (1.4.9)\n",
      "Requirement already satisfied: numpy>=1.23 in c:\\users\\anjal\\appdata\\local\\packages\\pythonsoftwarefoundation.python.3.11_qbz5n2kfra8p0\\localcache\\local-packages\\python311\\site-packages (from matplotlib) (2.3.2)\n",
      "Requirement already satisfied: packaging>=20.0 in c:\\users\\anjal\\appdata\\local\\packages\\pythonsoftwarefoundation.python.3.11_qbz5n2kfra8p0\\localcache\\local-packages\\python311\\site-packages (from matplotlib) (25.0)\n",
      "Requirement already satisfied: pillow>=8 in c:\\users\\anjal\\appdata\\local\\packages\\pythonsoftwarefoundation.python.3.11_qbz5n2kfra8p0\\localcache\\local-packages\\python311\\site-packages (from matplotlib) (11.3.0)\n",
      "Requirement already satisfied: pyparsing>=2.3.1 in c:\\users\\anjal\\appdata\\local\\packages\\pythonsoftwarefoundation.python.3.11_qbz5n2kfra8p0\\localcache\\local-packages\\python311\\site-packages (from matplotlib) (3.2.3)\n",
      "Requirement already satisfied: python-dateutil>=2.7 in c:\\users\\anjal\\appdata\\local\\packages\\pythonsoftwarefoundation.python.3.11_qbz5n2kfra8p0\\localcache\\local-packages\\python311\\site-packages (from matplotlib) (2.9.0.post0)\n",
      "Requirement already satisfied: six>=1.5 in c:\\users\\anjal\\appdata\\local\\packages\\pythonsoftwarefoundation.python.3.11_qbz5n2kfra8p0\\localcache\\local-packages\\python311\\site-packages (from python-dateutil>=2.7->matplotlib) (1.17.0)\n"
     ]
    },
    {
     "name": "stderr",
     "output_type": "stream",
     "text": [
      "\n",
      "[notice] A new release of pip is available: 24.0 -> 25.2\n",
      "[notice] To update, run: C:\\Users\\anjal\\AppData\\Local\\Microsoft\\WindowsApps\\PythonSoftwareFoundation.Python.3.11_qbz5n2kfra8p0\\python.exe -m pip install --upgrade pip\n"
     ]
    }
   ],
   "source": [
    "!pip install matplotlib"
   ]
  },
  {
   "cell_type": "code",
   "execution_count": 6,
   "id": "c0b7bc66",
   "metadata": {},
   "outputs": [],
   "source": [
    "import matplotlib.pyplot as plt"
   ]
  },
  {
   "cell_type": "markdown",
   "id": "cef8eb91",
   "metadata": {},
   "source": [
    "**SIMULATE DICE ROLLS**\n",
    "\n",
    "Each die has values from 1 to 6\n",
    "Roll two dice 10,000 times"
   ]
  },
  {
   "cell_type": "code",
   "execution_count": 7,
   "id": "216ec10e",
   "metadata": {},
   "outputs": [],
   "source": [
    "rolls_1 = np.random.randint(1, 7, 10000)  # Die 1\n",
    "rolls_2 = np.random.randint(1, 7, 10000)  # Die 2\n",
    "\n",
    "sums = rolls_1 + rolls_2  # Sum of two dice"
   ]
  },
  {
   "cell_type": "markdown",
   "id": "bf0e2c00",
   "metadata": {},
   "source": [
    " **Probablity of each sum (2 to 12)**"
   ]
  },
  {
   "cell_type": "code",
   "execution_count": 8,
   "id": "a6559017",
   "metadata": {},
   "outputs": [],
   "source": [
    "unique, counts = np.unique(sums, return_counts=True)\n",
    "probabilities = counts/1000"
   ]
  },
  {
   "cell_type": "markdown",
   "id": "21b21a0b",
   "metadata": {},
   "source": [
    "*print probabilities nicely*\n",
    "*plot a bar chart using marplotlib*"
   ]
  },
  {
   "cell_type": "code",
   "execution_count": 26,
   "id": "28853ad8",
   "metadata": {},
   "outputs": [
    {
     "name": "stdout",
     "output_type": "stream",
     "text": [
      "sum 2:probability 0.281\n",
      "sum 3:probability 0.552\n",
      "sum 4:probability 0.858\n",
      "sum 5:probability 1.088\n",
      "sum 6:probability 1.426\n",
      "sum 7:probability 1.633\n",
      "sum 8:probability 1.366\n",
      "sum 9:probability 1.132\n",
      "sum 10:probability 0.829\n",
      "sum 11:probability 0.553\n",
      "sum 12:probability 0.282\n"
     ]
    },
    {
     "data": {
      "image/png": "[encoded data removed]",
      "text/plain": [
       "<Figure size 640x480 with 1 Axes>"
      ]
     },
     "metadata": {},
     "output_type": "display_data"
    }
   ],
   "source": [
    "for u,p in zip(unique, probabilities):\n",
    "    print(f\"sum {u}:probability {p:.3f}\")\n",
    "\n",
    "plt.bar(unique, probabilities)\n",
    "plt.xlabel(\"Dice sum\")\n",
    "plt.ylabel(\"probability\")\n",
    "plt.title(\"Dice roll Simulation (10,000 rolls)\")\n",
    "plt.show()          "
   ]
  },
  {
   "cell_type": "code",
   "execution_count": 2,
   "id": "e5bff527",
   "metadata": {},
   "outputs": [
    {
     "name": "stdout",
     "output_type": "stream",
     "text": [
      "Collecting pandas\n",
      "  Downloading pandas-2.3.2-cp311-cp311-win_amd64.whl.metadata (19 kB)\n",
      "Requirement already satisfied: numpy>=1.23.2 in c:\\users\\anjal\\appdata\\local\\packages\\pythonsoftwarefoundation.python.3.11_qbz5n2kfra8p0\\localcache\\local-packages\\python311\\site-packages (from pandas) (2.3.2)\n",
      "Requirement already satisfied: python-dateutil>=2.8.2 in c:\\users\\anjal\\appdata\\local\\packages\\pythonsoftwarefoundation.python.3.11_qbz5n2kfra8p0\\localcache\\local-packages\\python311\\site-packages (from pandas) (2.9.0.post0)\n",
      "Collecting pytz>=2020.1 (from pandas)\n",
      "  Using cached pytz-2025.2-py2.py3-none-any.whl.metadata (22 kB)\n",
      "Collecting tzdata>=2022.7 (from pandas)\n",
      "  Using cached tzdata-2025.2-py2.py3-none-any.whl.metadata (1.4 kB)\n",
      "Requirement already satisfied: six>=1.5 in c:\\users\\anjal\\appdata\\local\\packages\\pythonsoftwarefoundation.python.3.11_qbz5n2kfra8p0\\localcache\\local-packages\\python311\\site-packages (from python-dateutil>=2.8.2->pandas) (1.17.0)\n",
      "Downloading pandas-2.3.2-cp311-cp311-win_amd64.whl (11.3 MB)\n",
      "   ---------------------------------------- 0.0/11.3 MB ? eta -:--:--\n",
      "   ---------------------------------------- 0.0/11.3 MB ? eta -:--:--\n",
      "   ---------------------------------------- 0.0/11.3 MB 445.2 kB/s eta 0:00:26\n",
      "   ---------------------------------------- 0.1/11.3 MB 1.2 MB/s eta 0:00:10\n",
      "   - -------------------------------------- 0.5/11.3 MB 4.1 MB/s eta 0:00:03\n",
      "   --- ------------------------------------ 1.0/11.3 MB 5.1 MB/s eta 0:00:03\n",
      "   ---- ----------------------------------- 1.3/11.3 MB 5.3 MB/s eta 0:00:02\n",
      "   ----- ---------------------------------- 1.6/11.3 MB 5.8 MB/s eta 0:00:02\n",
      "   ------- -------------------------------- 2.0/11.3 MB 6.1 MB/s eta 0:00:02\n",
      "   -------- ------------------------------- 2.3/11.3 MB 6.1 MB/s eta 0:00:02\n",
      "   --------- ------------------------------ 2.6/11.3 MB 6.4 MB/s eta 0:00:02\n",
      "   ---------- ----------------------------- 3.0/11.3 MB 6.3 MB/s eta 0:00:02\n",
      "   ----------- ---------------------------- 3.3/11.3 MB 6.6 MB/s eta 0:00:02\n",
      "   ------------ --------------------------- 3.6/11.3 MB 6.5 MB/s eta 0:00:02\n",
      "   ------------- -------------------------- 3.9/11.3 MB 6.6 MB/s eta 0:00:02\n",
      "   --------------- ------------------------ 4.3/11.3 MB 6.7 MB/s eta 0:00:02\n",
      "   ---------------- ----------------------- 4.5/11.3 MB 6.6 MB/s eta 0:00:02\n",
      "   ----------------- ---------------------- 4.9/11.3 MB 6.7 MB/s eta 0:00:01\n",
      "   ------------------ --------------------- 5.3/11.3 MB 6.8 MB/s eta 0:00:01\n",
      "   ------------------- -------------------- 5.5/11.3 MB 6.6 MB/s eta 0:00:01\n",
      "   -------------------- ------------------- 5.9/11.3 MB 6.8 MB/s eta 0:00:01\n",
      "   ---------------------- ----------------- 6.3/11.3 MB 6.8 MB/s eta 0:00:01\n",
      "   ----------------------- ---------------- 6.6/11.3 MB 6.9 MB/s eta 0:00:01\n",
      "   ------------------------ --------------- 7.0/11.3 MB 6.9 MB/s eta 0:00:01\n",
      "   ------------------------- -------------- 7.3/11.3 MB 6.9 MB/s eta 0:00:01\n",
      "   -------------------------- ------------- 7.5/11.3 MB 6.9 MB/s eta 0:00:01\n",
      "   --------------------------- ------------ 7.9/11.3 MB 7.0 MB/s eta 0:00:01\n",
      "   ---------------------------- ----------- 8.2/11.3 MB 7.0 MB/s eta 0:00:01\n",
      "   ----------------------------- ---------- 8.5/11.3 MB 6.9 MB/s eta 0:00:01\n",
      "   ------------------------------ --------- 8.8/11.3 MB 7.0 MB/s eta 0:00:01\n",
      "   -------------------------------- ------- 9.1/11.3 MB 6.9 MB/s eta 0:00:01\n",
      "   --------------------------------- ------ 9.5/11.3 MB 7.0 MB/s eta 0:00:01\n",
      "   ---------------------------------- ----- 9.8/11.3 MB 7.0 MB/s eta 0:00:01\n",
      "   ----------------------------------- ---- 10.1/11.3 MB 7.0 MB/s eta 0:00:01\n",
      "   ------------------------------------ --- 10.4/11.3 MB 7.4 MB/s eta 0:00:01\n",
      "   ------------------------------------- -- 10.7/11.3 MB 7.4 MB/s eta 0:00:01\n",
      "   -------------------------------------- - 11.0/11.3 MB 7.4 MB/s eta 0:00:01\n",
      "   ---------------------------------------  11.3/11.3 MB 7.4 MB/s eta 0:00:01\n",
      "   ---------------------------------------  11.3/11.3 MB 7.4 MB/s eta 0:00:01\n",
      "   ---------------------------------------- 11.3/11.3 MB 7.2 MB/s eta 0:00:00\n",
      "Using cached pytz-2025.2-py2.py3-none-any.whl (509 kB)\n",
      "Using cached tzdata-2025.2-py2.py3-none-any.whl (347 kB)\n",
      "Installing collected packages: pytz, tzdata, pandas\n",
      "Successfully installed pandas-2.3.2 pytz-2025.2 tzdata-2025.2\n"
     ]
    },
    {
     "name": "stderr",
     "output_type": "stream",
     "text": [
      "\n",
      "[notice] A new release of pip is available: 24.0 -> 25.2\n",
      "[notice] To update, run: C:\\Users\\anjal\\AppData\\Local\\Microsoft\\WindowsApps\\PythonSoftwareFoundation.Python.3.11_qbz5n2kfra8p0\\python.exe -m pip install --upgrade pip\n"
     ]
    }
   ],
   "source": [
    "!pip install pandas"
   ]
  }
 ],
 "metadata": {
  "kernelspec": {
   "display_name": "Python 3",
   "language": "python",
   "name": "python3"
  },
  "language_info": {
   "codemirror_mode": {
    "name": "ipython",
    "version": 3
   },
   "file_extension": ".py",
   "mimetype": "text/x-python",
   "name": "python",
   "nbconvert_exporter": "python",
   "pygments_lexer": "ipython3",
   "version": "3.11.9"
  }
 },
 "nbformat": 4,
 "nbformat_minor": 5
}
