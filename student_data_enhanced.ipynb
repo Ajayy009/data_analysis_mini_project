{
  "cells": [
    {
      "cell_type": "markdown",
      "id": "intro",
      "metadata": {},
      "source": [
        "# Student Data Example in Python \n"
      ]
    },
    {
      "cell_type": "code",
      "execution_count": 1,
      "id": "student_info",
      "metadata": {},
      "outputs": [],
      "source": [
        "name = \"alice\"\n",
        "age  = 18\n",
        "GPA = 3.78\n",
        "plays_volleyball = True\n",
        "\n",
        "print(name, age, GPA, plays_volleyball)"
      ]
    },
    {
      "cell_type": "code",
      "execution_count": 2,
      "id": "gpa_update",
      "metadata": {},
      "outputs": [],
      "source": [
        "GPA = GPA + 0.07\n",
        "print(name, age, GPA, plays_volleyball)"
      ]
    },
    {
      "cell_type": "markdown",
      "id": "age_future",
      "metadata": {},
      "source": [
        "## Student age in future"
      ]
    },
    {
      "cell_type": "code",
      "execution_count": 3,
      "id": "age_calc",
      "metadata": {},
      "outputs": [],
      "source": [
        "future_age = age + 15\n",
        "print(f\"The student name is {name} and they are {future_age} years old in 15 years.\")"
      ]
    },
    {
      "cell_type": "markdown",
      "id": "sports",
      "metadata": {},
      "source": [
        "## Lists in Python (Sports example)"
      ]
    },
    {
      "cell_type": "code",
      "execution_count": 4,
      "id": "sports_list",
      "metadata": {},
      "outputs": [],
      "source": [
        "sports = [\"volleyball\", \"netball\", \"touch rugby\", \"cross country\"]\n",
        "print(sports)\n",
        "\n",
        "sports.append(\"cricket\")\n",
        "print(\"Alice is currently playing:\", sports)"
      ]
    },
    {
      "cell_type": "code",
      "execution_count": 5,
      "id": "sports_slice",
      "metadata": {},
      "outputs": [],
      "source": [
        "print(\"First 3 sports:\", sports[0:3])\n",
        "print(\"Last 3 sports:\", sports[-3:])"
      ]
    },
    {
      "cell_type": "markdown",
      "id": "grades",
      "metadata": {},
      "source": [
        "## Calculating Letter Grade"
      ]
    },
    {
      "cell_type": "code",
      "execution_count": 6,
      "id": "grade_calc",
      "metadata": {},
      "outputs": [],
      "source": [
        "Student_gpa = 3.2  # change this value to test\n",
        "\n",
        "if Student_gpa <= 2:\n",
        "    letter_grade = \"D\"\n",
        "elif Student_gpa <= 3:\n",
        "    letter_grade = \"C\"\n",
        "elif Student_gpa <= 3.8:\n",
        "    letter_grade = \"B\"\n",
        "else:\n",
        "    letter_grade = \"A\"\n",
        "\n",
        "print(f\"Student's letter grade is {letter_grade}.\")"
      ]
    },
    {
      "cell_type": "markdown",
      "id": "dicts",
      "metadata": {},
      "source": [
        "## Dictionaries in Python"
      ]
    },
    {
      "cell_type": "code",
      "execution_count": 7,
      "id": "dict_example",
      "metadata": {},
      "outputs": [],
      "source": [
        "fruit = {\"apple\": 2.5, \"banana\": 1.2, \"orange\": 3.0}\n",
        "print(fruit.keys())\n",
        "print(fruit.values())\n",
        "print(fruit.items())\n",
        "\n",
        "fruit[\"grape\"] = 4.0\n",
        "fruit[\"banana\"] = 1.5\n",
        "print(fruit)\n",
        "\n",
        "fruit2 = {\"mango\": 5.0, \"pineapple\": 6.0}\n",
        "fruit.update(fruit2)\n",
        "print(fruit)\n",
        "\n",
        "fruit.pop(\"apple\")\n",
        "print(fruit)"
      ]
    },
    {
      "cell_type": "markdown",
      "id": "sets",
      "metadata": {},
      "source": [
        "## Sets in Python"
      ]
    },
    {
      "cell_type": "code",
      "execution_count": 8,
      "id": "sets_example",
      "metadata": {},
      "outputs": [],
      "source": [
        "S1 = {1, \"poorna\", 1, \"poorna\"}   # duplicates removed automatically\n",
        "print(S1)\n",
        "\n",
        "S1.add(\"hello\")\n",
        "print(S1)\n",
        "\n",
        "S1.update([10, 20, 30])\n",
        "print(S1)\n",
        "\n",
        "S1.remove(10)\n",
        "print(S1)"
      ]
    },
    {
      "cell_type": "markdown",
      "id": "numpy_arrays",
      "metadata": {},
      "source": [
        "## Arrays & NumPy (vectorised operations)"
      ]
    },
    {
      "cell_type": "code",
      "execution_count": 9,
      "id": "numpy_example",
      "metadata": {},
      "outputs": [],
      "source": [
        "import numpy as np\n",
        "\n",
        "arr = np.array([1,2,3,4,5])\n",
        "print(\"arr:\", arr)\n",
        "print(\"arr + 5:\", arr + 5)\n",
        "arr_copy = arr.copy()\n",
        "arr_view = arr.view()\n",
        "print(\"copy:\", arr_copy)\n",
        "print(\"view:\", arr_view)\n",
        "arr2 = np.array([5,4,3,2,1])\n",
        "print(\"arr + arr2:\", arr + arr2)\n",
        "print(\"mean:\", arr.mean())\n",
        "print(\"std:\", arr.std())\n",
        "print(\"reshape example:\", np.arange(6).reshape(2,3))\n",
        "print(\"boolean mask (arr>2):\", arr > 2)\n",
        "print(\"masked elements:\", arr[arr > 2])"
      ]
    },
    {
      "cell_type": "code",
      "execution_count": 10,
      "id": "numpy_more",
      "metadata": {},
      "outputs": [],
      "source": [
        "arr3 = np.arange(1,11)\n",
        "arr3 = arr3.reshape(2,5)\n",
        "print(\"arr3 shape:\", arr3.shape)\n",
        "print(\"concatenate example:\", np.concatenate([np.arange(1,6), np.arange(6,11)]))\n",
        "print(\"elementwise multiply:\", np.array([1,2,3]) * np.array([4,5,6]))\n"
      ]
    },
    {
      "cell_type": "markdown",
      "id": "comprehensions",
      "metadata": {},
      "source": [
        "## List / Dict / Set Comprehensions & Generator expressions"
      ]
    },
    {
      "cell_type": "code",
      "execution_count": 11,
      "id": "list_comp",
      "metadata": {},
      "outputs": [],
      "source": [
        "squares = [x*x for x in range(10)]\n",
        "evens = [x for x in range(10) if x % 2 == 0]\n",
        "pairs = [(i,j) for i in range(3) for j in range(2)]\n",
        "print(\"squares:\", squares)\n",
        "print(\"evens:\", evens)\n",
        "print(\"pairs:\", pairs)"
      ]
    },
    {
      "cell_type": "code",
      "execution_count": 12,
      "id": "dict_set_gen",
      "metadata": {},
      "outputs": [],
      "source": [
        "square_dict = {x: x*x for x in range(6)}\n",
        "mod_set = {x % 3 for x in range(10)}\n",
        "gen = (x*x for x in range(6))  # generator expression\n",
        "print(\"square_dict:\", square_dict)\n",
        "print(\"mod_set:\", mod_set)\n",
        "print(\"sum of gen:\", sum(gen))\n"
      ]
    },
    {
      "cell_type": "markdown",
      "id": "enumerate_zip",
      "metadata": {},
      "source": [
        "## enumerate, zip, map, filter examples"
      ]
    },
    {
      "cell_type": "code",
      "execution_count": 13,
      "id": "enum_zip",
      "metadata": {},
      "outputs": [],
      "source": [
        "names = [\"alice\", \"bob\", \"carol\"]\n",
        "for idx, name in enumerate(names, start=1):\n",
        "    print(idx, name)\n",
        "\n",
        "scores = [80, 90, 70]\n",
        "for n, s in zip(names, scores):\n",
        "    print(n, s)\n",
        "\n",
        "doubled = list(map(lambda x: x*2, scores))\n",
        "filtered = list(filter(lambda x: x >= 80, scores))\n",
        "print('doubled:', doubled)\n",
        "print('filtered (>=80):', filtered)"
      ]
    },
    {
      "cell_type": "markdown",
      "id": "tuples_slicing",
      "metadata": {},
      "source": [
        "## Tuples & slicing examples"
      ]
    },
    {
      "cell_type": "code",
      "execution_count": 14,
      "id": "tuple_slice",
      "metadata": {},
      "outputs": [],
      "source": [
        "t = (1,2,3)\n",
        "print('tuple t:', t)\n",
        "try:\n",
        "    t[0] = 10\n",
        "except TypeError as e:\n",
        "    print('tuple is immutable:', e)\n",
        "\n",
        "lst = list(range(10))\n",
        "print('lst[::2] (every 2nd):', lst[::2])\n",
        "print('lst[::-1] (reversed):', lst[::-1])\n"
      ]
    },
    {
      "cell_type": "markdown",
      "id": "avg_gpa",
      "metadata": {},
      "source": [
        "## Small function: average GPA of multiple students (practice)"
      ]
    },
    {
      "cell_type": "code",
      "execution_count": 15,
      "id": "avg_function",
      "metadata": {},
      "outputs": [],
      "source": [
        "students = [\n",
        "    {\"name\": \"alice\", \"gpa\": 3.85},\n",
        "    {\"name\": \"bob\", \"gpa\": 2.9},\n",
        "    {\"name\": \"carol\", \"gpa\": 3.5},\n",
        "]\n",
        "\n",
        "def average_gpa(student_list):\n",
        "    return sum(s['gpa'] for s in student_list) / len(student_list)\n",
        "\n",
        "print('average GPA:', average_gpa(students))\n"
      ]
    }
  ],
  "metadata": {
    "kernelspec": {
      "display_name": "Python 3",
      "language": "python",
      "name": "python3"
    },
    "language_info": {
      "codemirror_mode": {
        "name": "ipython",
        "version": 3
      },
      "file_extension": ".py",
      "mimetype": "text/x-python",
      "name": "python",
      "nbconvert_exporter": "python",
      "pygments_lexer": "ipython3",
      "version": "3.11"
    }
  },
  "nbformat": 4,
  "nbformat_minor": 5
}
