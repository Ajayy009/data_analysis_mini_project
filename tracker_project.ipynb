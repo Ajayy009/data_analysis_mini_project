{
 "cells": [
  {
   "cell_type": "code",
   "execution_count": 23,
   "id": "b99423a7",
   "metadata": {},
   "outputs": [
    {
     "ename": "ValueError",
     "evalue": "invalid literal for int() with base 10: ''",
     "output_type": "error",
     "traceback": [
      "\u001b[31m---------------------------------------------------------------------------\u001b[39m",
      "\u001b[31mValueError\u001b[39m                                Traceback (most recent call last)",
      "\u001b[36mCell\u001b[39m\u001b[36m \u001b[39m\u001b[32mIn[23]\u001b[39m\u001b[32m, line 14\u001b[39m\n\u001b[32m     12\u001b[39m csvwriter =csv.writer(file)\n\u001b[32m     13\u001b[39m \u001b[38;5;28;01mwhile\u001b[39;00m \u001b[38;5;129;01mnot\u001b[39;00m stopped:\n\u001b[32m---> \u001b[39m\u001b[32m14\u001b[39m     xp = \u001b[38;5;28;43mint\u001b[39;49m\u001b[43m(\u001b[49m\u001b[38;5;28;43minput\u001b[39;49m\u001b[43m(\u001b[49m\u001b[33;43m\"\u001b[39;49m\u001b[33;43mwhat is the expense(type 0 to stop): \u001b[39;49m\u001b[33;43m\"\u001b[39;49m\u001b[43m)\u001b[49m\u001b[43m)\u001b[49m\n\u001b[32m     15\u001b[39m     \u001b[38;5;28;01mif\u001b[39;00m xp==\u001b[32m0\u001b[39m:\n\u001b[32m     16\u001b[39m         stopped = \u001b[38;5;28;01mTrue\u001b[39;00m\n",
      "\u001b[31mValueError\u001b[39m: invalid literal for int() with base 10: ''"
     ]
    }
   ],
   "source": [
    "from datetime import date\n",
    "import csv\n",
    "\n",
    "dt = date.today()\n",
    "dt = dt.strftime(\"%d/%m/%Y\")\n",
    "\n",
    "filename = \"test.csv\"\n",
    "exp = []\n",
    "stopped = False\n",
    "\n",
    "with open(filename,'a',newline=\"\") as file: \n",
    "    csvwriter =csv.writer(file)\n",
    "    while not stopped:\n",
    "        xp = int(input(\"what is the expense(type 0 to stop): \"))\n",
    "        if xp==0:\n",
    "            stopped = True\n",
    "        else: \n",
    "            csvwriter.writerow([dt,xp])\n",
    "            exp.append(xp)      \n",
    "file.close()\n",
    "print(\"your expenses today are,\", exp)\n",
    "print(\"your total is\", sum(exp))\n",
    "\n",
    "\n",
    "\n"
   ]
  }
 ],
 "metadata": {
  "kernelspec": {
   "display_name": "Python 3",
   "language": "python",
   "name": "python3"
  },
  "language_info": {
   "codemirror_mode": {
    "name": "ipython",
    "version": 3
   },
   "file_extension": ".py",
   "mimetype": "text/x-python",
   "name": "python",
   "nbconvert_exporter": "python",
   "pygments_lexer": "ipython3",
   "version": "3.11.9"
  }
 },
 "nbformat": 4,
 "nbformat_minor": 5
}
