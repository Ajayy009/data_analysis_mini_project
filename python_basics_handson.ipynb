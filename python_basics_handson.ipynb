{
 "cells": [
  {
   "cell_type": "markdown",
   "id": "01e407c8",
   "metadata": {},
   "source": [
    "lets a student data in python"
   ]
  },
  {
   "cell_type": "code",
   "execution_count": 12,
   "id": "46153e9d",
   "metadata": {},
   "outputs": [
    {
     "name": "stdout",
     "output_type": "stream",
     "text": [
      "alice\n"
     ]
    }
   ],
   "source": [
    "name = \"alice\"\n",
    "age  = 18\n",
    "GPA = 3.78\n",
    "plays_volleyball = True\n",
    "\n",
    "print(name)"
   ]
  },
  {
   "cell_type": "code",
   "execution_count": 13,
   "id": "fce96f54",
   "metadata": {},
   "outputs": [
    {
     "name": "stdout",
     "output_type": "stream",
     "text": [
      "alice 18 3.78 True\n"
     ]
    }
   ],
   "source": [
    "print(name, age, GPA,  plays_volleyball)"
   ]
  },
  {
   "cell_type": "code",
   "execution_count": 14,
   "id": "62a15fdd",
   "metadata": {},
   "outputs": [
    {
     "name": "stdout",
     "output_type": "stream",
     "text": [
      "alice 18 3.8499999999999996 True\n"
     ]
    }
   ],
   "source": [
    "GPA = GPA + 0.07\n",
    "\n",
    "print(name, age, GPA,  plays_volleyball)"
   ]
  },
  {
   "cell_type": "markdown",
   "id": "6bbdff95",
   "metadata": {},
   "source": [
    "lets try and print the student information in a more meaningful manner"
   ]
  },
  {
   "cell_type": "code",
   "execution_count": 15,
   "id": "3fe408ba",
   "metadata": {},
   "outputs": [
    {
     "name": "stdout",
     "output_type": "stream",
     "text": [
      "The student name is alice and they are 18 years old.\n"
     ]
    }
   ],
   "source": [
    "print(f\"The student name is {name} and they are {age} years old.\")"
   ]
  },
  {
   "cell_type": "markdown",
   "id": "5bdea7cb",
   "metadata": {},
   "source": [
    "lets calculate the alice's age in 15 years"
   ]
  },
  {
   "cell_type": "code",
   "execution_count": 16,
   "id": "b8df7c52",
   "metadata": {},
   "outputs": [
    {
     "name": "stdout",
     "output_type": "stream",
     "text": [
      "The student name is alice and they are 33 years old in 15 years.\n"
     ]
    }
   ],
   "source": [
    "age = age + 15\n",
    "print(f\"The student name is {name} and they are {age} years old in 15 years.\")"
   ]
  },
  {
   "cell_type": "code",
   "execution_count": 17,
   "id": "9747737b",
   "metadata": {},
   "outputs": [
    {
     "data": {
      "text/plain": [
       "'volleyball'"
      ]
     },
     "execution_count": 17,
     "metadata": {},
     "output_type": "execute_result"
    }
   ],
   "source": [
    "sports = [\"volleyball\", \"netball\", \"touch rugby\", \"cross country\"]\n",
    "sports[0]"
   ]
  },
  {
   "cell_type": "code",
   "execution_count": 18,
   "id": "f41c6887",
   "metadata": {},
   "outputs": [
    {
     "name": "stdout",
     "output_type": "stream",
     "text": [
      "Alice is currently playing: ['volleyball', 'netball', 'touch rugby', 'cross country', 'cricket']\n"
     ]
    }
   ],
   "source": [
    "sports.append(\"cricket\")\n",
    "\n",
    "print(\"Alice is currently playing:\", sports)"
   ]
  },
  {
   "cell_type": "code",
   "execution_count": 19,
   "id": "eb20599a",
   "metadata": {},
   "outputs": [
    {
     "data": {
      "text/plain": [
       "['volleyball', 'netball', 'touch rugby']"
      ]
     },
     "execution_count": 19,
     "metadata": {},
     "output_type": "execute_result"
    }
   ],
   "source": [
    "sports[0:3]"
   ]
  },
  {
   "cell_type": "markdown",
   "id": "e54c711a",
   "metadata": {},
   "source": [
    "lets see the **last 3 sports** alice is playing"
   ]
  },
  {
   "cell_type": "code",
   "execution_count": 20,
   "id": "b95418ef",
   "metadata": {},
   "outputs": [
    {
     "data": {
      "text/plain": [
       "['touch rugby', 'cross country', 'cricket']"
      ]
     },
     "execution_count": 20,
     "metadata": {},
     "output_type": "execute_result"
    }
   ],
   "source": [
    "sports[2:]"
   ]
  },
  {
   "cell_type": "markdown",
   "id": "0cb57911",
   "metadata": {},
   "source": [
    "## calculating letter grade\n",
    "\n",
    "- 2 or under D\n",
    "- 3 or under C\n",
    "- 3.8 or under B\n",
    "- Above 3.8 A"
   ]
  },
  {
   "cell_type": "code",
   "execution_count": 23,
   "id": "063e81c2",
   "metadata": {},
   "outputs": [
    {
     "name": "stdout",
     "output_type": "stream",
     "text": [
      "student's letter grade is C.\n"
     ]
    }
   ],
   "source": [
    "Student_gpa = float(input(\"what is your GPA? \"))\n",
    "if Student_gpa <= 2:\n",
    "    letter_grade = \"D\"\n",
    "elif Student_gpa <= 3:\n",
    "    letter_grade = \"C\"\n",
    "elif Student_gpa <= 3.8:\n",
    "    letter_grade = \"B\"\n",
    "else:\n",
    "    letter_grade = \"A\"\n",
    "print(f\"student's letter grade is {letter_grade}.\")\n",
    "   "
   ]
  }
 ],
 "metadata": {
  "kernelspec": {
   "display_name": "Python 3",
   "language": "python",
   "name": "python3"
  },
  "language_info": {
   "codemirror_mode": {
    "name": "ipython",
    "version": 3
   },
   "file_extension": ".py",
   "mimetype": "text/x-python",
   "name": "python",
   "nbconvert_exporter": "python",
   "pygments_lexer": "ipython3",
   "version": "3.11.9"
  }
 },
 "nbformat": 4,
 "nbformat_minor": 5
}
