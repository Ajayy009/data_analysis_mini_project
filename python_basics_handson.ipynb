{
 "cells": [
  {
   "cell_type": "markdown",
   "id": "01e407c8",
   "metadata": {},
   "source": [
    "lets a student data in python"
   ]
  },
  {
   "cell_type": "code",
   "execution_count": null,
   "id": "46153e9d",
   "metadata": {},
   "outputs": [
    {
     "name": "stdout",
     "output_type": "stream",
     "text": [
      "alice\n"
     ]
    },
    {
     "name": "stdout",
     "output_type": "stream",
     "text": [
      "alice\n"
     ]
    }
   ],
   "source": [
    "name = \"alice\"\n",
    "age  = 18\n",
    "GPA = 3.78\n",
    "plays_volleyball = True\n",
    "\n",
    "print(name)"
   ]
  },
  {
   "cell_type": "code",
   "execution_count": null,
   "id": "fce96f54",
   "metadata": {},
   "outputs": [
    {
     "name": "stdout",
     "output_type": "stream",
     "text": [
      "alice 18 3.78 True\n"
     ]
    }
   ],
   "source": [
    "print(name, age, GPA,  plays_volleyball)"
   ]
  },
  {
   "cell_type": "code",
   "execution_count": null,
   "id": "62a15fdd",
   "metadata": {},
   "outputs": [
    {
     "name": "stdout",
     "output_type": "stream",
     "text": [
      "alice 18 3.8499999999999996 True\n"
     ]
    }
   ],
   "source": [
    "GPA = GPA + 0.07\n",
    "\n",
    "print(name, age, GPA,  plays_volleyball)"
   ]
  },
  {
   "cell_type": "markdown",
   "id": "6bbdff95",
   "metadata": {},
   "source": [
    "lets try and print the student information in a more meaningful manner"
   ]
  },
  {
   "cell_type": "code",
   "execution_count": null,
   "id": "3fe408ba",
   "metadata": {},
   "outputs": [
    {
     "name": "stdout",
     "output_type": "stream",
     "text": [
      "The student name is alice and they are 18 years old.\n"
     ]
    }
   ],
   "source": [
    "print(f\"The student name is {name} and they are {age} years old.\")"
   ]
  },
  {
   "cell_type": "markdown",
   "id": "5bdea7cb",
   "metadata": {},
   "source": [
    "lets calculate the alice's age in 15 years"
   ]
  },
  {
   "cell_type": "code",
   "execution_count": null,
   "id": "b8df7c52",
   "metadata": {},
   "outputs": [
    {
     "name": "stdout",
     "output_type": "stream",
     "text": [
      "The student name is alice and they are 33 years old in 15 years.\n"
     ]
    }
   ],
   "source": [
    "age = age + 15\n",
    "print(f\"The student name is {name} and they are {age} years old in 15 years.\")"
   ]
  },
  {
   "cell_type": "code",
   "execution_count": null,
   "id": "9747737b",
   "metadata": {},
   "outputs": [
    {
     "data": {
      "text/plain": [
       "'volleyball'"
      ]
     },
     "execution_count": 8,
     "metadata": {},
     "output_type": "execute_result"
    }
   ],
   "source": [
    "sports = [\"volleyball\", \"netball\", \"touch rugby\", \"cross country\"]\n",
    "sports[0]"
   ]
  },
  {
   "cell_type": "code",
   "execution_count": null,
   "id": "f41c6887",
   "metadata": {},
   "outputs": [
    {
     "name": "stdout",
     "output_type": "stream",
     "text": [
      "Alice is currently playing: ['volleyball', 'netball', 'touch rugby', 'cross country', 'cricket']\n"
     ]
    }
   ],
   "source": [
    "sports.append(\"cricket\")\n",
    "\n",
    "print(\"Alice is currently playing:\", sports)"
   ]
  },
  {
   "cell_type": "markdown",
   "id": "c4533ab6",
   "metadata": {},
   "source": [
    "##lists in python\n"
   ]
  },
  {
   "cell_type": "code",
   "execution_count": null,
   "id": "eb20599a",
   "metadata": {},
   "outputs": [
    {
     "data": {
      "text/plain": [
       "['volleyball', 'netball', 'touch rugby']"
      ]
     },
     "execution_count": 10,
     "metadata": {},
     "output_type": "execute_result"
    }
   ],
   "source": [
    "sports[0:3]"
   ]
  },
  {
   "cell_type": "markdown",
   "id": "e54c711a",
   "metadata": {},
   "source": [
    "lets see the **last 3 sports** alice is playing"
   ]
  },
  {
   "cell_type": "code",
   "execution_count": null,
   "id": "b95418ef",
   "metadata": {},
   "outputs": [
    {
     "data": {
      "text/plain": [
       "['touch rugby', 'cross country', 'cricket']"
      ]
     },
     "execution_count": 11,
     "metadata": {},
     "output_type": "execute_result"
    }
   ],
   "source": [
    "sports[2:]"
   ]
  },
  {
   "cell_type": "markdown",
   "id": "0cb57911",
   "metadata": {},
   "source": [
    "## calculating letter grade\n",
    "\n",
    "- 2 or under D\n",
    "- 3 or under C\n",
    "- 3.8 or under B\n",
    "- Above 3.8 A"
   ]
  },
  {
   "cell_type": "code",
   "execution_count": 12,
   "id": "063e81c2",
   "metadata": {},
   "outputs": [
    {
     "ename": "KeyboardInterrupt",
     "evalue": "Interrupted by user",
     "output_type": "error",
     "traceback": [
      "\u001b[31m---------------------------------------------------------------------------\u001b[39m",
      "\u001b[31mKeyboardInterrupt\u001b[39m                         Traceback (most recent call last)",
      "\u001b[36mCell\u001b[39m\u001b[36m \u001b[39m\u001b[32mIn[12]\u001b[39m\u001b[32m, line 1\u001b[39m\n\u001b[32m----> \u001b[39m\u001b[32m1\u001b[39m Student_gpa = \u001b[38;5;28mfloat\u001b[39m(\u001b[38;5;28;43minput\u001b[39;49m\u001b[43m(\u001b[49m\u001b[33;43m\"\u001b[39;49m\u001b[33;43mwhat is your GPA? \u001b[39;49m\u001b[33;43m\"\u001b[39;49m\u001b[43m)\u001b[49m)\n\u001b[32m      2\u001b[39m \u001b[38;5;28;01mif\u001b[39;00m Student_gpa <= \u001b[32m2\u001b[39m:\n\u001b[32m      3\u001b[39m     letter_grade = \u001b[33m\"\u001b[39m\u001b[33mD\u001b[39m\u001b[33m\"\u001b[39m\n",
      "\u001b[36mFile \u001b[39m\u001b[32m~\\AppData\\Local\\Packages\\PythonSoftwareFoundation.Python.3.11_qbz5n2kfra8p0\\LocalCache\\local-packages\\Python311\\site-packages\\ipykernel\\kernelbase.py:1275\u001b[39m, in \u001b[36mKernel.raw_input\u001b[39m\u001b[34m(self, prompt)\u001b[39m\n\u001b[32m   1273\u001b[39m     msg = \u001b[33m\"\u001b[39m\u001b[33mraw_input was called, but this frontend does not support input requests.\u001b[39m\u001b[33m\"\u001b[39m\n\u001b[32m   1274\u001b[39m     \u001b[38;5;28;01mraise\u001b[39;00m StdinNotImplementedError(msg)\n\u001b[32m-> \u001b[39m\u001b[32m1275\u001b[39m \u001b[38;5;28;01mreturn\u001b[39;00m \u001b[38;5;28;43mself\u001b[39;49m\u001b[43m.\u001b[49m\u001b[43m_input_request\u001b[49m\u001b[43m(\u001b[49m\n\u001b[32m   1276\u001b[39m \u001b[43m    \u001b[49m\u001b[38;5;28;43mstr\u001b[39;49m\u001b[43m(\u001b[49m\u001b[43mprompt\u001b[49m\u001b[43m)\u001b[49m\u001b[43m,\u001b[49m\n\u001b[32m   1277\u001b[39m \u001b[43m    \u001b[49m\u001b[38;5;28;43mself\u001b[39;49m\u001b[43m.\u001b[49m\u001b[43m_parent_ident\u001b[49m\u001b[43m[\u001b[49m\u001b[33;43m\"\u001b[39;49m\u001b[33;43mshell\u001b[39;49m\u001b[33;43m\"\u001b[39;49m\u001b[43m]\u001b[49m\u001b[43m,\u001b[49m\n\u001b[32m   1278\u001b[39m \u001b[43m    \u001b[49m\u001b[38;5;28;43mself\u001b[39;49m\u001b[43m.\u001b[49m\u001b[43mget_parent\u001b[49m\u001b[43m(\u001b[49m\u001b[33;43m\"\u001b[39;49m\u001b[33;43mshell\u001b[39;49m\u001b[33;43m\"\u001b[39;49m\u001b[43m)\u001b[49m\u001b[43m,\u001b[49m\n\u001b[32m   1279\u001b[39m \u001b[43m    \u001b[49m\u001b[43mpassword\u001b[49m\u001b[43m=\u001b[49m\u001b[38;5;28;43;01mFalse\u001b[39;49;00m\u001b[43m,\u001b[49m\n\u001b[32m   1280\u001b[39m \u001b[43m\u001b[49m\u001b[43m)\u001b[49m\n",
      "\u001b[36mFile \u001b[39m\u001b[32m~\\AppData\\Local\\Packages\\PythonSoftwareFoundation.Python.3.11_qbz5n2kfra8p0\\LocalCache\\local-packages\\Python311\\site-packages\\ipykernel\\kernelbase.py:1320\u001b[39m, in \u001b[36mKernel._input_request\u001b[39m\u001b[34m(self, prompt, ident, parent, password)\u001b[39m\n\u001b[32m   1317\u001b[39m \u001b[38;5;28;01mexcept\u001b[39;00m \u001b[38;5;167;01mKeyboardInterrupt\u001b[39;00m:\n\u001b[32m   1318\u001b[39m     \u001b[38;5;66;03m# re-raise KeyboardInterrupt, to truncate traceback\u001b[39;00m\n\u001b[32m   1319\u001b[39m     msg = \u001b[33m\"\u001b[39m\u001b[33mInterrupted by user\u001b[39m\u001b[33m\"\u001b[39m\n\u001b[32m-> \u001b[39m\u001b[32m1320\u001b[39m     \u001b[38;5;28;01mraise\u001b[39;00m \u001b[38;5;167;01mKeyboardInterrupt\u001b[39;00m(msg) \u001b[38;5;28;01mfrom\u001b[39;00m\u001b[38;5;250m \u001b[39m\u001b[38;5;28;01mNone\u001b[39;00m\n\u001b[32m   1321\u001b[39m \u001b[38;5;28;01mexcept\u001b[39;00m \u001b[38;5;167;01mException\u001b[39;00m:\n\u001b[32m   1322\u001b[39m     \u001b[38;5;28mself\u001b[39m.log.warning(\u001b[33m\"\u001b[39m\u001b[33mInvalid Message:\u001b[39m\u001b[33m\"\u001b[39m, exc_info=\u001b[38;5;28;01mTrue\u001b[39;00m)\n",
      "\u001b[31mKeyboardInterrupt\u001b[39m: Interrupted by user"
     ]
    }
   ],
   "source": [
    "Student_gpa = float(input(\"what is your GPA? \"))\n",
    "if Student_gpa <= 2:\n",
    "    letter_grade = \"D\"\n",
    "elif Student_gpa <= 3:\n",
    "    letter_grade = \"C\"\n",
    "elif Student_gpa <= 3.8:\n",
    "    letter_grade = \"B\"\n",
    "else:\n",
    "    letter_grade = \"A\"\n",
    "print(f\"student's letter grade is {letter_grade}.\")\n",
    "   "
   ]
  },
  {
   "cell_type": "markdown",
   "id": "86064029",
   "metadata": {},
   "source": [
    "**Dictionaries in python**"
   ]
  },
  {
   "cell_type": "markdown",
   "id": "ec91d628",
   "metadata": {},
   "source": [
    "##extracting keys\n"
   ]
  },
  {
   "cell_type": "code",
   "execution_count": null,
   "id": "f006fa1c",
   "metadata": {},
   "outputs": [
    {
     "data": {
      "text/plain": [
       "dict_keys(['apple', 'banana', 'orange'])"
      ]
     },
     "execution_count": 24,
     "metadata": {},
     "output_type": "execute_result"
    }
   ],
   "source": [
    "fruit ={\"apple\": 2.5, \"banana\": 1.2, \"orange\": 3.0}\n",
    "fruit.keys()"
   ]
  },
  {
   "cell_type": "markdown",
   "id": "5c6d3389",
   "metadata": {},
   "source": [
    "##extracting values"
   ]
  },
  {
   "cell_type": "code",
   "execution_count": null,
   "id": "3628a1df",
   "metadata": {},
   "outputs": [
    {
     "data": {
      "text/plain": [
       "dict_values([2.5, 1.2, 3.0])"
      ]
     },
     "execution_count": 25,
     "metadata": {},
     "output_type": "execute_result"
    }
   ],
   "source": [
    "fruit = {\"apple\": 2.5, \"banana\": 1.2, \"orange\": 3.0}\n",
    "fruit.values()"
   ]
  },
  {
   "cell_type": "markdown",
   "id": "875d0db5",
   "metadata": {},
   "source": [
    "##extracting items"
   ]
  },
  {
   "cell_type": "code",
   "execution_count": null,
   "id": "14273fc1",
   "metadata": {},
   "outputs": [
    {
     "data": {
      "text/plain": [
       "dict_items([('apple', 2.5), ('banana', 1.2), ('orange', 3.0)])"
      ]
     },
     "execution_count": 26,
     "metadata": {},
     "output_type": "execute_result"
    }
   ],
   "source": [
    "fruit.items()"
   ]
  },
  {
   "cell_type": "markdown",
   "id": "ef69077b",
   "metadata": {},
   "source": [
    "##adding new elements to dictionary"
   ]
  },
  {
   "cell_type": "code",
   "execution_count": null,
   "id": "4a7016cd",
   "metadata": {},
   "outputs": [
    {
     "data": {
      "text/plain": [
       "{'apple': 2.5, 'banana': 1.2, 'orange': 3.0, 'grape': 4.0}"
      ]
     },
     "execution_count": 30,
     "metadata": {},
     "output_type": "execute_result"
    }
   ],
   "source": [
    "\n",
    "fruit[\"grape\"] = 4.0\n",
    "fruit\n"
   ]
  },
  {
   "cell_type": "markdown",
   "id": "bd1f4c90",
   "metadata": {},
   "source": [
    "##changing an existing element"
   ]
  },
  {
   "cell_type": "code",
   "execution_count": null,
   "id": "2becf181",
   "metadata": {},
   "outputs": [
    {
     "data": {
      "text/plain": [
       "{'apple': 2.5, 'banana': 1.5, 'orange': 3.0}"
      ]
     },
     "execution_count": 32,
     "metadata": {},
     "output_type": "execute_result"
    }
   ],
   "source": [
    "fruit = {\"apple\": 2.5, \"banana\": 1.2, \"orange\": 3.0}\n",
    "fruit[\"banana\"] = 1.5\n",
    "fruit\n"
   ]
  },
  {
   "cell_type": "markdown",
   "id": "4bff51f4",
   "metadata": {},
   "source": [
    "##update one dictionary's element with another"
   ]
  },
  {
   "cell_type": "code",
   "execution_count": null,
   "id": "5dabb740",
   "metadata": {},
   "outputs": [
    {
     "name": "stdout",
     "output_type": "stream",
     "text": [
      "{'apple': 2.5, 'banana': 1.2, 'orange': 3.0, 'grape': 4.0}\n"
     ]
    }
   ],
   "source": [
    "fruit1 ={\"apple\": 2.5, \"banana\": 1.2}\n",
    "fruit2 ={\"orange\": 3.0, \"grape\": 4.0}\n",
    "fruit1.update(fruit2)\n",
    "print(fruit1)\n"
   ]
  },
  {
   "cell_type": "markdown",
   "id": "4c91aac2",
   "metadata": {},
   "source": [
    "##popping an element"
   ]
  },
  {
   "cell_type": "code",
   "execution_count": null,
   "id": "69a3c62f",
   "metadata": {},
   "outputs": [
    {
     "name": "stdout",
     "output_type": "stream",
     "text": [
      "{'apple': 2.5, 'orange': 3.0}\n"
     ]
    }
   ],
   "source": [
    "fruit= {\"apple\": 2.5, \"banana\": 1.2, \"orange\": 3.0}\n",
    "fruit.pop(\"banana\")\n",
    "print (fruit)"
   ]
  },
  {
   "cell_type": "markdown",
   "id": "adfcb935",
   "metadata": {},
   "source": [
    "##sets in python"
   ]
  },
  {
   "cell_type": "code",
   "execution_count": null,
   "id": "11de9dd5",
   "metadata": {},
   "outputs": [
    {
     "data": {
      "text/plain": [
       "{1, 'poorna'}"
      ]
     },
     "execution_count": 67,
     "metadata": {},
     "output_type": "execute_result"
    }
   ],
   "source": [
    "S1= {1,'poorna',1 ,'poorna'}\n",
    "S1\n"
   ]
  },
  {
   "cell_type": "markdown",
   "id": "8362563e",
   "metadata": {},
   "source": [
    "##adding a new element"
   ]
  },
  {
   "cell_type": "code",
   "execution_count": null,
   "id": "1cd68ce8",
   "metadata": {},
   "outputs": [
    {
     "data": {
      "text/plain": [
       "{1, 2, False, 'a', 'b', 'hello'}"
      ]
     },
     "execution_count": 87,
     "metadata": {},
     "output_type": "execute_result"
    }
   ],
   "source": [
    "S1 = {1, \"a\", True, 2, \"b\", False}\n",
    "S1.add(\"hello\")\n",
    "S1"
   ]
  },
  {
   "cell_type": "markdown",
   "id": "bbb2691a",
   "metadata": {},
   "source": [
    "##updating multiple elements"
   ]
  },
  {
   "cell_type": "code",
   "execution_count": null,
   "id": "f6a5da0c",
   "metadata": {},
   "outputs": [
    {
     "data": {
      "text/plain": [
       "{1, 10, 2, 20, 30, False, 'a', 'b'}"
      ]
     },
     "execution_count": 88,
     "metadata": {},
     "output_type": "execute_result"
    }
   ],
   "source": [
    "S1= {1, \"a\", True, 2, \"b\", False}\n",
    "S1.update([10,20,30])\n",
    "S1"
   ]
  },
  {
   "cell_type": "markdown",
   "id": "579a58f5",
   "metadata": {},
   "source": [
    "##removing an element"
   ]
  },
  {
   "cell_type": "code",
   "execution_count": null,
   "id": "91ef4c41",
   "metadata": {},
   "outputs": [
    {
     "data": {
      "text/plain": [
       "{1, 2, False, 'a'}"
      ]
     },
     "execution_count": 91,
     "metadata": {},
     "output_type": "execute_result"
    }
   ],
   "source": [
    "S1= {1, \"a\", True, 2, \"b\", False}\n",
    "S1.remove(\"b\")\n",
    "S1\n"
   ]
  },
  {
   "cell_type": "markdown",
   "id": "edf40cb0",
   "metadata": {},
   "source": [
    "##copying array in python\n"
   ]
  },
  {
   "cell_type": "code",
   "execution_count": null,
   "id": "6abc85ab",
   "metadata": {},
   "outputs": [
    {
     "name": "stdout",
     "output_type": "stream",
     "text": [
      "[ 6  7  8  9 10]\n"
     ]
    }
   ],
   "source": [
    "from numpy import*\n",
    "arr = array([1,2,3,4,5])\n",
    "arr = arr + 5\n",
    "print(arr)"
   ]
  },
  {
   "cell_type": "code",
   "execution_count": null,
   "id": "2280776c",
   "metadata": {},
   "outputs": [
    {
     "name": "stdout",
     "output_type": "stream",
     "text": [
      "[1 2 3 4 5]\n",
      "[1 2 3 4 5]\n"
     ]
    }
   ],
   "source": [
    "from numpy import*\n",
    "arr1 = array([1,2,3,4,5])\n",
    "arr2 = arr1.view()\n",
    "print(arr1)\n",
    "print(arr2)"
   ]
  },
  {
   "cell_type": "markdown",
   "id": "52a38b76",
   "metadata": {},
   "source": [
    "##vectorisedoperation"
   ]
  },
  {
   "cell_type": "code",
   "execution_count": null,
   "id": "8b53e081",
   "metadata": {},
   "outputs": [
    {
     "name": "stdout",
     "output_type": "stream",
     "text": [
      "[6 6 6 6 6]\n"
     ]
    }
   ],
   "source": [
    "from numpy import*\n",
    "arr1= array([1,2,3,4,5])\n",
    "arr2= array([5,4,3,2,1])\n",
    "arr3 = arr1 + arr2\n",
    "print(arr3)"
   ]
  },
  {
   "cell_type": "markdown",
   "id": "61c58a90",
   "metadata": {},
   "source": [
    "##concatenate"
   ]
  },
  {
   "cell_type": "code",
   "execution_count": null,
   "id": "a90845db",
   "metadata": {},
   "outputs": [
    {
     "name": "stdout",
     "output_type": "stream",
     "text": [
      "[ 1  2  3  4  5  6  7  8  9 10]\n"
     ]
    }
   ],
   "source": [
    "from numpy import*\n",
    "arr1=([1,2,3,4,5])\n",
    "arr2 =([6,7,8,9,10])\n",
    "print(concatenate([arr1,arr2]))"
   ]
  },
  {
   "cell_type": "markdown",
   "id": "38e345af",
   "metadata": {},
   "source": [
    "##function arguments in python"
   ]
  },
  {
   "cell_type": "code",
   "execution_count": null,
   "id": "d4f1e53c",
   "metadata": {},
   "outputs": [],
   "source": [
    "def update(x):\n",
    "    x=8\n",
    "    print(x)"
   ]
  },
  {
   "cell_type": "markdown",
   "id": "7dc73913",
   "metadata": {},
   "source": [
    " \n",
    " "
   ]
  }
 ],
 "metadata": {
  "kernelspec": {
   "display_name": "Python 3",
   "language": "python",
   "name": "python3"
  },
  "language_info": {
   "codemirror_mode": {
    "name": "ipython",
    "version": 3
   },
   "file_extension": ".py",
   "mimetype": "text/x-python",
   "name": "python",
   "nbconvert_exporter": "python",
   "pygments_lexer": "ipython3",
   "version": "3.11.9"
  }
 },
 "nbformat": 4,
 "nbformat_minor": 5
}
