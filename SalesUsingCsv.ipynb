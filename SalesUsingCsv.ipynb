{
 "cells": [
  {
   "cell_type": "code",
   "execution_count": 11,
   "id": "d71d3f7a",
   "metadata": {},
   "outputs": [
    {
     "name": "stdout",
     "output_type": "stream",
     "text": [
      "csv file created successfully!\n",
      "         Date  Sales  Qty\n",
      "0  2025-04-09    250    5\n",
      "1  2025-04-10    300    7\n",
      "2  2025-04-11    150    3\n",
      "3  2025-04-12    400   10\n"
     ]
    }
   ],
   "source": [
    "import pandas as pd\n",
    "# sample data\n",
    "data = {\n",
    "    \"Date\": [\"2025-04-09\", \"2025-04-10\", \"2025-04-11\", \"2025-04-12\"],\n",
    "    \"Sales\": [250, 300, 150, 400],\n",
    "    \"Qty\": [5, 7, 3, 10],\n",
    "}\n",
    "# create DataFrame\n",
    "df = pd.DataFrame(data)\n",
    "# save as CSV\n",
    "df.to_csv(\"sales.csv\", index= False)\n",
    "\n",
    "print(\"csv file created successfully!\")\n",
    "print (df)"
   ]
  }
 ],
 "metadata": {
  "kernelspec": {
   "display_name": "Python 3",
   "language": "python",
   "name": "python3"
  },
  "language_info": {
   "codemirror_mode": {
    "name": "ipython",
    "version": 3
   },
   "file_extension": ".py",
   "mimetype": "text/x-python",
   "name": "python",
   "nbconvert_exporter": "python",
   "pygments_lexer": "ipython3",
   "version": "3.11.9"
  }
 },
 "nbformat": 4,
 "nbformat_minor": 5
}
