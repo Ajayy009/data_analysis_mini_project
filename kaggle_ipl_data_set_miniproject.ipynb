{
 "cells": [
  {
   "cell_type": "code",
   "execution_count": 29,
   "id": "b1f92fed",
   "metadata": {},
   "outputs": [],
   "source": [
    "import pandas as pd\n"
   ]
  },
  {
   "cell_type": "markdown",
   "id": "047cbb2d",
   "metadata": {},
   "source": [
    "#load Csv"
   ]
  },
  {
   "cell_type": "code",
   "execution_count": 30,
   "id": "7ac3bef6",
   "metadata": {},
   "outputs": [],
   "source": [
    "df = pd.read_csv(\"matches.csv\")"
   ]
  },
  {
   "cell_type": "code",
   "execution_count": 31,
   "id": "d7697f98",
   "metadata": {},
   "outputs": [
    {
     "name": "stdout",
     "output_type": "stream",
     "text": [
      "   id  season       city        date                        team1  \\\n",
      "0   1    2017  Hyderabad  05-04-2017          Sunrisers Hyderabad   \n",
      "1   2    2017       Pune  06-04-2017               Mumbai Indians   \n",
      "2   3    2017     Rajkot  07-04-2017                Gujarat Lions   \n",
      "3   4    2017     Indore  08-04-2017       Rising Pune Supergiant   \n",
      "4   5    2017  Bangalore  08-04-2017  Royal Challengers Bangalore   \n",
      "\n",
      "                         team2                  toss_winner toss_decision  \\\n",
      "0  Royal Challengers Bangalore  Royal Challengers Bangalore         field   \n",
      "1       Rising Pune Supergiant       Rising Pune Supergiant         field   \n",
      "2        Kolkata Knight Riders        Kolkata Knight Riders         field   \n",
      "3              Kings XI Punjab              Kings XI Punjab         field   \n",
      "4             Delhi Daredevils  Royal Challengers Bangalore           bat   \n",
      "\n",
      "   result  dl_applied                       winner  win_by_runs  \\\n",
      "0  normal           0          Sunrisers Hyderabad           35   \n",
      "1  normal           0       Rising Pune Supergiant            0   \n",
      "2  normal           0        Kolkata Knight Riders            0   \n",
      "3  normal           0              Kings XI Punjab            0   \n",
      "4  normal           0  Royal Challengers Bangalore           15   \n",
      "\n",
      "   win_by_wickets player_of_match                                      venue  \\\n",
      "0               0    Yuvraj Singh  Rajiv Gandhi International Stadium, Uppal   \n",
      "1               7       SPD Smith    Maharashtra Cricket Association Stadium   \n",
      "2              10         CA Lynn     Saurashtra Cricket Association Stadium   \n",
      "3               6      GJ Maxwell                     Holkar Cricket Stadium   \n",
      "4               0       KM Jadhav                      M Chinnaswamy Stadium   \n",
      "\n",
      "          umpire1        umpire2  umpire3  \n",
      "0     AY Dandekar       NJ Llong      NaN  \n",
      "1  A Nand Kishore         S Ravi      NaN  \n",
      "2     Nitin Menon      CK Nandan      NaN  \n",
      "3    AK Chaudhary  C Shamshuddin      NaN  \n",
      "4         unknown        unknown      NaN  \n",
      "<class 'pandas.core.frame.DataFrame'>\n",
      "RangeIndex: 633 entries, 0 to 632\n",
      "Data columns (total 18 columns):\n",
      " #   Column           Non-Null Count  Dtype  \n",
      "---  ------           --------------  -----  \n",
      " 0   id               633 non-null    int64  \n",
      " 1   season           633 non-null    int64  \n",
      " 2   city             633 non-null    object \n",
      " 3   date             633 non-null    object \n",
      " 4   team1            633 non-null    object \n",
      " 5   team2            633 non-null    object \n",
      " 6   toss_winner      633 non-null    object \n",
      " 7   toss_decision    633 non-null    object \n",
      " 8   result           633 non-null    object \n",
      " 9   dl_applied       633 non-null    int64  \n",
      " 10  winner           633 non-null    object \n",
      " 11  win_by_runs      633 non-null    int64  \n",
      " 12  win_by_wickets   633 non-null    int64  \n",
      " 13  player_of_match  633 non-null    object \n",
      " 14  venue            633 non-null    object \n",
      " 15  umpire1          633 non-null    object \n",
      " 16  umpire2          633 non-null    object \n",
      " 17  umpire3          0 non-null      float64\n",
      "dtypes: float64(1), int64(5), object(12)\n",
      "memory usage: 89.1+ KB\n",
      "None\n",
      "               id       season  dl_applied  win_by_runs  win_by_wickets  \\\n",
      "count  633.000000   633.000000  633.000000   633.000000      633.000000   \n",
      "mean   317.769352  2012.484992    0.025276    13.747235        3.388626   \n",
      "std    183.677614     2.775374    0.157088    23.946920        3.420526   \n",
      "min      1.000000  2008.000000    0.000000     0.000000        0.000000   \n",
      "25%    159.000000  2010.000000    0.000000     0.000000        0.000000   \n",
      "50%    318.000000  2012.000000    0.000000     0.000000        4.000000   \n",
      "75%    476.000000  2015.000000    0.000000    20.000000        7.000000   \n",
      "max    636.000000  2017.000000    1.000000   146.000000       10.000000   \n",
      "\n",
      "       umpire3  \n",
      "count      0.0  \n",
      "mean       NaN  \n",
      "std        NaN  \n",
      "min        NaN  \n",
      "25%        NaN  \n",
      "50%        NaN  \n",
      "75%        NaN  \n",
      "max        NaN  \n"
     ]
    }
   ],
   "source": [
    "print(df.head()) #first 5 rows                  \n",
    "                  \n",
    "print(df.info())    #column types and missing values\n",
    "print(df.describe()) #basic statistics for numeric columns"
   ]
  },
  {
   "cell_type": "code",
   "execution_count": 33,
   "id": "07132273",
   "metadata": {},
   "outputs": [
    {
     "name": "stdout",
     "output_type": "stream",
     "text": [
      "id                   0\n",
      "season               0\n",
      "city                 0\n",
      "date                 0\n",
      "team1                0\n",
      "team2                0\n",
      "toss_winner          0\n",
      "toss_decision        0\n",
      "result               0\n",
      "dl_applied           0\n",
      "winner               0\n",
      "win_by_runs          0\n",
      "win_by_wickets       0\n",
      "player_of_match      0\n",
      "venue                0\n",
      "umpire1              0\n",
      "umpire2              0\n",
      "umpire3            633\n",
      "dtype: int64\n"
     ]
    }
   ],
   "source": [
    "## checking columns having missing values\n",
    "\n",
    "print(df.isnull().sum())\n",
    "\n",
    "##Droping rows where critical info is missing(like winner or date)\n",
    "df = df.dropna(subset=['winner', 'date'])\n",
    "\n",
    "# Filling missing values for less critical columns\n",
    "df['player_of_match'] = df['player_of_match'].fillna('NA')\n",
    "df['city']= df['city'].fillna('unknown')\n",
    "df['umpire1']= df['umpire1'].fillna('unknown')\n",
    "df['umpire2']= df['umpire2'].fillna('unknown')\n",
    "df['umpire3']= df['umpire3'].fillna('unknown')\n",
    "df.to_csv(\"matches.csv\", index=False)\n",
    "\n",
    "\n",
    "\n",
    "\n",
    "\n"
   ]
  }
 ],
 "metadata": {
  "kernelspec": {
   "display_name": "Python 3",
   "language": "python",
   "name": "python3"
  },
  "language_info": {
   "codemirror_mode": {
    "name": "ipython",
    "version": 3
   },
   "file_extension": ".py",
   "mimetype": "text/x-python",
   "name": "python",
   "nbconvert_exporter": "python",
   "pygments_lexer": "ipython3",
   "version": "3.11.9"
  }
 },
 "nbformat": 4,
 "nbformat_minor": 5
}
