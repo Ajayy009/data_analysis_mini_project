{
 "cells": [
  {
   "cell_type": "code",
   "execution_count": 1,
   "id": "45734ea9",
   "metadata": {},
   "outputs": [
    {
     "name": "stdout",
     "output_type": "stream",
     "text": [
      " Original Dirty Data:\n",
      "   CustomerID     Name   Age              Email Purchase\n",
      "0       101.0     John  25.0     john@gmail.com     1000\n",
      "1       102.0    ALICE   NaN    alice@GMAIL.com     2000\n",
      "2       103.0      bob  35.0               bob@     1500\n",
      "3       104.0  Charlie  -1.0  charlie@yahoo.com     2500\n",
      "4       105.0    ALICE  29.0               None     3000\n",
      "5       105.0    ALICE  29.0    alice@GMAIL.com     3000\n",
      "6         NaN      Eve  40.0      eve@gmail.com     4000\n",
      "\n",
      "✅ Cleaned Data:\n",
      "   CustomerID     Name   Age              Email  Purchase\n",
      "0       101.0     John  25.0     john@gmail.com      1000\n",
      "1       102.0    Alice  31.6    alice@gmail.com      2000\n",
      "2       103.0      Bob  35.0               bob@      1500\n",
      "3       104.0  Charlie  31.6  charlie@yahoo.com      2500\n",
      "4       105.0    Alice  29.0  unknown@gmail.com      3000\n",
      "5       105.0    Alice  29.0    alice@gmail.com      3000\n",
      "6       105.0      Eve  40.0      eve@gmail.com      4000\n"
     ]
    }
   ],
   "source": [
    "import pandas as pd\n",
    "import numpy as np\n",
    "\n",
    "# Create a sample dirty dataset\n",
    "data = {\n",
    "    \"CustomerID\": [101, 102, 103, 104, 105, 105, None],\n",
    "    \"Name\": [\"John\", \"ALICE\", \"bob\", \"Charlie\", \"ALICE\", \"ALICE\", \"Eve\"],\n",
    "    \"Age\": [25, None, 35, -1, 29, 29, 40],\n",
    "    \"Email\": [\"john@gmail.com\", \"alice@GMAIL.com\", \"bob@\", \"charlie@yahoo.com\", None, \"alice@GMAIL.com\", \"eve@gmail.com\"],\n",
    "    \"Purchase\": [\"1000\", \"2000\", \"1500\", \"2500\", \"3000\", \"3000\", \"4000\"]\n",
    "}\n",
    "\n",
    "df = pd.DataFrame(data)\n",
    "print(\" Original Dirty Data:\")\n",
    "print(df)\n",
    "\n",
    "# Handle Missing Values\n",
    "df[\"CustomerID\"] = df[\"CustomerID\"].fillna(df[\"CustomerID\"].mode()[0])  # Fill missing ID with mode\n",
    "df[\"Age\"] = df[\"Age\"].replace(-1, np.nan)  # Replace invalid ages\n",
    "df[\"Age\"] = df[\"Age\"].fillna(df[\"Age\"].mean())  # Fill missing with mean\n",
    "df[\"Email\"] = df[\"Email\"].fillna(\"unknown@gmail.com\")\n",
    "\n",
    "# Remove Duplicates\n",
    "df = df.drop_duplicates()\n",
    "\n",
    "#  Standardize text formats\n",
    "df[\"Name\"] = df[\"Name\"].str.title()  # Convert names to Proper Case\n",
    "df[\"Email\"] = df[\"Email\"].str.lower()  # Make all emails lowercase\n",
    "\n",
    "# Convert Data Types\n",
    "df[\"Purchase\"] = df[\"Purchase\"].astype(int)\n",
    "\n",
    "#  Validate Emails (very basic check)\n",
    "df = df[df[\"Email\"].str.contains(\"@\")]\n",
    "\n",
    "print(\"\\n✅ Cleaned Data:\")\n",
    "print(df)\n"
   ]
  }
 ],
 "metadata": {
  "kernelspec": {
   "display_name": "Python 3",
   "language": "python",
   "name": "python3"
  },
  "language_info": {
   "codemirror_mode": {
    "name": "ipython",
    "version": 3
   },
   "file_extension": ".py",
   "mimetype": "text/x-python",
   "name": "python",
   "nbconvert_exporter": "python",
   "pygments_lexer": "ipython3",
   "version": "3.11.9"
  }
 },
 "nbformat": 4,
 "nbformat_minor": 5
}
